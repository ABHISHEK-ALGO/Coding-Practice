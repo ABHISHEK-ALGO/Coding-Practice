{
 "cells": [
  {
   "cell_type": "code",
   "execution_count": 12,
   "id": "90bb5f81-6f3d-4ab9-8cd9-9880810188fa",
   "metadata": {
    "scrolled": true
   },
   "outputs": [
    {
     "name": "stdin",
     "output_type": "stream",
     "text": [
      "enter the number: 7\n"
     ]
    },
    {
     "name": "stdout",
     "output_type": "stream",
     "text": [
      "1 \n",
      "\n",
      "2 2 \n",
      "\n",
      "3 3 3 \n",
      "\n",
      "4 4 4 4 \n",
      "\n",
      "5 5 5 5 5 \n",
      "\n",
      "6 6 6 6 6 6 \n",
      "\n",
      "7 7 7 7 7 7 7 \n",
      "\n"
     ]
    }
   ],
   "source": [
    "n = int(input(\"enter the number:\"))\n",
    "for i in range(1,n+1):\n",
    "    for j in range(0,i):\n",
    "        print(i,end = \" \")\n",
    "    print(\"\\n\")"
   ]
  },
  {
   "cell_type": "code",
   "execution_count": 16,
   "id": "4e9df949-89fe-495c-90c9-7892440770be",
   "metadata": {
    "scrolled": true
   },
   "outputs": [
    {
     "name": "stdin",
     "output_type": "stream",
     "text": [
      "enter the number: 5\n"
     ]
    },
    {
     "name": "stdout",
     "output_type": "stream",
     "text": [
      "1 2 \n",
      "3 4 5 \n",
      "6 7 8 9 \n",
      "10 11 12 13 14 \n"
     ]
    }
   ],
   "source": [
    "n = int(input(\"enter the number:\"))\n",
    "num = 1\n",
    "for i in range(1,n):\n",
    "    \n",
    "    for j in range(0,i+1):\n",
    "        print(num,end = \" \")\n",
    "        num = num + 1\n",
    "        print()"
   ]
  },
  {
   "cell_type": "code",
   "execution_count": null,
   "id": "876b9ed0-8907-4a73-aaf2-3f6df363f56e",
   "metadata": {},
   "outputs": [],
   "source": [
    "n = int(input(\"Enter the numnber:\"))\n",
    "for i in range(0,n+1):# decides the numbe of rows to print\n",
    "    for j in range(0,i): # if want to include 0 = i+1 otherwise i this decides how many times each element is printed in a row\n",
    "        print(i,end = \" \") # print i then space\n",
    "    print(\"\\n\") # then next line"
   ]
  },
  {
   "cell_type": "code",
   "execution_count": null,
   "id": "9979a97a-8f56-4436-983f-b55c8c6982f6",
   "metadata": {},
   "outputs": [],
   "source": [
    "n = int(input(\" Enter the number:\"))\n",
    "num =1\n",
    "for i in range(0,n):\n",
    "    for j in range(0,i+1):\n",
    "        print(num,end=\" \")\n",
    "        num = num+1\n",
    "    print(\"\\n\")"
   ]
  },
  {
   "cell_type": "code",
   "execution_count": null,
   "id": "b241462f-ff99-4d54-8e8e-dba28a4d23d2",
   "metadata": {},
   "outputs": [],
   "source": [
    "#  Print First 10 natural numbers using while loop\n",
    "while i<11:\n",
    "    for i in range(1,11):"
   ]
  },
  {
   "cell_type": "code",
   "execution_count": null,
   "id": "8e5b30bd-0ece-4b66-9f85-4d832075c9ce",
   "metadata": {},
   "outputs": [],
   "source": [
    "# make calender\n",
    "import calendar\n",
    "year = int(input(\"enter the year:\"))\n",
    "month = int(input(\"enter the month:\"))\n",
    "cal = calendar.month(year,month)\n",
    "print(cal)"
   ]
  }
 ],
 "metadata": {
  "kernelspec": {
   "display_name": "Python 3 (ipykernel)",
   "language": "python",
   "name": "python3"
  },
  "language_info": {
   "codemirror_mode": {
    "name": "ipython",
    "version": 3
   },
   "file_extension": ".py",
   "mimetype": "text/x-python",
   "name": "python",
   "nbconvert_exporter": "python",
   "pygments_lexer": "ipython3",
   "version": "3.11.7"
  }
 },
 "nbformat": 4,
 "nbformat_minor": 5
}
