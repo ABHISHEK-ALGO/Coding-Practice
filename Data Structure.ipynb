{
 "cells": [
  {
   "cell_type": "markdown",
   "id": "00670b0b-d47a-4e13-9b9c-712b93e9d347",
   "metadata": {
    "jp-MarkdownHeadingCollapsed": true
   },
   "source": [
    "## LIST"
   ]
  },
  {
   "cell_type": "code",
   "execution_count": 86,
   "id": "35c1f69f-ec74-4165-9d38-536b94926bcd",
   "metadata": {},
   "outputs": [],
   "source": [
    "mylist = ['one' , 'two' , 'three' , 'four' , 'five' , 'six' , 'seven' , 'eight','nine']"
   ]
  },
  {
   "cell_type": "code",
   "execution_count": 87,
   "id": "3f07488f-bd79-49c2-bc4e-810847faf665",
   "metadata": {},
   "outputs": [],
   "source": [
    "list5 = [['Asif', 25 ],[50, 100],[150, 90]]"
   ]
  },
  {
   "cell_type": "code",
   "execution_count": 88,
   "id": "47d05852-23a3-4e6a-a61c-6838c10607b5",
   "metadata": {},
   "outputs": [
    {
     "name": "stdout",
     "output_type": "stream",
     "text": [
      "50\n"
     ]
    }
   ],
   "source": [
    "a = list5[1][0]\n",
    "print(a)"
   ]
  },
  {
   "cell_type": "code",
   "execution_count": 1,
   "id": "24ec1cb9-4943-4a81-828c-e4fc26ae4ad8",
   "metadata": {},
   "outputs": [
    {
     "data": {
      "text/plain": [
       "5"
      ]
     },
     "execution_count": 1,
     "metadata": {},
     "output_type": "execute_result"
    }
   ],
   "source": [
    "matrix = [\n",
    "    [1, 2, 5], \n",
    "    [3, 5, 6], \n",
    "    [7, 9, 9]\n",
    "]\n",
    "matrix[1][1]"
   ]
  },
  {
   "cell_type": "code",
   "execution_count": 90,
   "id": "e914b583-cec5-4f79-a439-9d0101e65cce",
   "metadata": {},
   "outputs": [
    {
     "data": {
      "text/plain": [
       "['nine', 'eight', 'seven']"
      ]
     },
     "execution_count": 90,
     "metadata": {},
     "output_type": "execute_result"
    }
   ],
   "source": [
    "mylist[-1:-4:-1]\n",
    "# mylist[:-3:2]"
   ]
  },
  {
   "cell_type": "code",
   "execution_count": 91,
   "id": "e91e9047-306a-481a-b5a9-93e3bbf658e2",
   "metadata": {},
   "outputs": [
    {
     "data": {
      "text/plain": [
       "['seven', 'eight', 'nine']"
      ]
     },
     "execution_count": 91,
     "metadata": {},
     "output_type": "execute_result"
    }
   ],
   "source": [
    "mylist[-3:]"
   ]
  },
  {
   "cell_type": "code",
   "execution_count": 92,
   "id": "9ee508b9-bf15-41c8-bebf-28bf51ebfa79",
   "metadata": {
    "scrolled": true
   },
   "outputs": [
    {
     "data": {
      "text/plain": [
       "[['Asif', 25], [50, 100], [150, 90], [5, 8]]"
      ]
     },
     "execution_count": 92,
     "metadata": {},
     "output_type": "execute_result"
    }
   ],
   "source": [
    "list5.insert(3,[5,8])\n",
    "list5"
   ]
  },
  {
   "cell_type": "code",
   "execution_count": 93,
   "id": "31c87f0c-6beb-4a9c-8774-7afc2e6e7738",
   "metadata": {
    "scrolled": true
   },
   "outputs": [],
   "source": [
    "list5.insert(3,5)"
   ]
  },
  {
   "cell_type": "code",
   "execution_count": 94,
   "id": "da6c60a7-b7e8-4281-a688-5cd4e81efb59",
   "metadata": {
    "scrolled": true
   },
   "outputs": [
    {
     "data": {
      "text/plain": [
       "[['Asif', 'pushpa', 25], [50, 100], [150, 90], 5, [5, 8]]"
      ]
     },
     "execution_count": 94,
     "metadata": {},
     "output_type": "execute_result"
    }
   ],
   "source": [
    "list5[0].insert(1,\"pushpa\")\n",
    "list5"
   ]
  },
  {
   "cell_type": "code",
   "execution_count": 95,
   "id": "abe16429-0c49-4bcb-a1d5-10b66b138e37",
   "metadata": {},
   "outputs": [
    {
     "name": "stdout",
     "output_type": "stream",
     "text": [
      "[['Asif', 25], [50, 5, 100], [150, 90]]\n"
     ]
    }
   ],
   "source": [
    "list5 = [['Asif', 25], [50, 100], [150, 90]]\n",
    "list5[1].insert(1, 5)  # Insert 5 at index 1 of the second sublist\n",
    "print(list5)"
   ]
  },
  {
   "cell_type": "code",
   "execution_count": 96,
   "id": "7840cc41-cca8-4d83-a877-89acadc4e19d",
   "metadata": {},
   "outputs": [
    {
     "name": "stdout",
     "output_type": "stream",
     "text": [
      "[['Asif', 25], [50], [150, 90]]\n"
     ]
    }
   ],
   "source": [
    "list5 = [['Asif', 25], [50, 100], [150, 90]]\n",
    "list5[1].remove(100)\n",
    "print(list5)"
   ]
  },
  {
   "cell_type": "code",
   "execution_count": 97,
   "id": "69c546d3-f737-4515-bdba-a4c0d9d12125",
   "metadata": {},
   "outputs": [
    {
     "data": {
      "text/plain": [
       "['one', 'two', 'three', 'four', 'six', 'seven', 'eight', 'nine']"
      ]
     },
     "execution_count": 97,
     "metadata": {},
     "output_type": "execute_result"
    }
   ],
   "source": [
    "mylist.remove('five')\n",
    "mylist"
   ]
  },
  {
   "cell_type": "code",
   "execution_count": 98,
   "id": "5b86e4e7-87d0-4c90-9ce2-1d840d63cbf9",
   "metadata": {},
   "outputs": [
    {
     "data": {
      "text/plain": [
       "['one', 'two', 'pet', 7, 'six', 'seven', 'eight', 'nine']"
      ]
     },
     "execution_count": 98,
     "metadata": {},
     "output_type": "execute_result"
    }
   ],
   "source": [
    "mylist[3] = 7\n",
    "mylist[2] = 'pet'\n",
    "mylist"
   ]
  },
  {
   "cell_type": "code",
   "execution_count": 99,
   "id": "6f6a1b9b-d9e2-454b-af4c-851936d41ed4",
   "metadata": {},
   "outputs": [],
   "source": [
    "list5.clear()\n",
    "list5.insert(0,'bob')\n",
    "list5.insert(4,6)\n",
    "del list5[0]\n",
    "del list5"
   ]
  },
  {
   "cell_type": "code",
   "execution_count": 100,
   "id": "ded5505e-3da1-4d1b-a995-ab875a90a2e2",
   "metadata": {},
   "outputs": [
    {
     "data": {
      "text/plain": [
       "(2718582438784, 2718582438784)"
      ]
     },
     "execution_count": 100,
     "metadata": {},
     "output_type": "execute_result"
    }
   ],
   "source": [
    "mylist1 = mylist\n",
    "id(mylist1),id(mylist)"
   ]
  },
  {
   "cell_type": "code",
   "execution_count": 101,
   "id": "9f7c0484-a359-4d5e-ab71-3989f22df6a3",
   "metadata": {},
   "outputs": [
    {
     "data": {
      "text/plain": [
       "(2718582439296, 2718582438784)"
      ]
     },
     "execution_count": 101,
     "metadata": {},
     "output_type": "execute_result"
    }
   ],
   "source": [
    "mylist2 = mylist.copy()\n",
    "id(mylist2),id(mylist)"
   ]
  },
  {
   "cell_type": "code",
   "execution_count": 102,
   "id": "e352133b-34a4-4012-ae52-035192eb2639",
   "metadata": {},
   "outputs": [
    {
     "data": {
      "text/plain": [
       "['Asif',\n",
       " 25,\n",
       " [50, 100],\n",
       " [150, 90],\n",
       " 'one',\n",
       " 'two',\n",
       " 'pet',\n",
       " 7,\n",
       " 'six',\n",
       " 'seven',\n",
       " 'eight',\n",
       " 'nine']"
      ]
     },
     "execution_count": 102,
     "metadata": {},
     "output_type": "execute_result"
    }
   ],
   "source": [
    "list1 = ['Asif', 25 ,[50, 100],[150, 90]]\n",
    "new_list = list1+mylist\n",
    "new_list"
   ]
  },
  {
   "cell_type": "code",
   "execution_count": 103,
   "id": "ecedf1cd-af41-47fc-b0c7-7b68e5670bcb",
   "metadata": {},
   "outputs": [],
   "source": [
    "# list1.extend(mylist)\n",
    "# list1"
   ]
  },
  {
   "cell_type": "code",
   "execution_count": 104,
   "id": "543c3747-3a7d-4919-a7fd-c22c9e665927",
   "metadata": {},
   "outputs": [],
   "source": [
    "mylist3 = [9,5,2,99,12,88,34]\n",
    "mylist3.sort()\n",
    "mylist3.insert(2,5)"
   ]
  },
  {
   "cell_type": "code",
   "execution_count": 105,
   "id": "cbdfebb0-73df-4b25-8992-24e21e79cf74",
   "metadata": {},
   "outputs": [
    {
     "data": {
      "text/plain": [
       "[2, 5, 5, 9, 12, 34, 88, 99]"
      ]
     },
     "execution_count": 105,
     "metadata": {},
     "output_type": "execute_result"
    }
   ],
   "source": [
    "mylist3"
   ]
  },
  {
   "cell_type": "code",
   "execution_count": 106,
   "id": "c4b74227-a977-49fd-9c87-d5f00f66f01a",
   "metadata": {},
   "outputs": [
    {
     "name": "stdout",
     "output_type": "stream",
     "text": [
      "2\n",
      "5\n",
      "5\n",
      "9\n",
      "12\n",
      "34\n",
      "88\n",
      "99\n"
     ]
    }
   ],
   "source": [
    "for i in mylist3:\n",
    "    print(i)"
   ]
  },
  {
   "cell_type": "code",
   "execution_count": 107,
   "id": "046edbb2-9be0-4905-8866-4cc4e64bb49e",
   "metadata": {},
   "outputs": [
    {
     "data": {
      "text/plain": [
       "False"
      ]
     },
     "execution_count": 107,
     "metadata": {},
     "output_type": "execute_result"
    }
   ],
   "source": [
    "8 in mylist3"
   ]
  },
  {
   "cell_type": "code",
   "execution_count": 108,
   "id": "0e261cb1-c82e-496b-be0b-afd5c6c60861",
   "metadata": {},
   "outputs": [
    {
     "data": {
      "text/plain": [
       "1"
      ]
     },
     "execution_count": 108,
     "metadata": {},
     "output_type": "execute_result"
    }
   ],
   "source": [
    "mylist.count('nine')"
   ]
  },
  {
   "cell_type": "code",
   "execution_count": 109,
   "id": "753b7a97-4c97-4a64-a2f2-b953e94da4fa",
   "metadata": {},
   "outputs": [
    {
     "ename": "TypeError",
     "evalue": "'<' not supported between instances of 'int' and 'str'",
     "output_type": "error",
     "traceback": [
      "\u001b[1;31m---------------------------------------------------------------------------\u001b[0m",
      "\u001b[1;31mTypeError\u001b[0m                                 Traceback (most recent call last)",
      "Cell \u001b[1;32mIn[109], line 1\u001b[0m\n\u001b[1;32m----> 1\u001b[0m mylist\u001b[38;5;241m.\u001b[39msort(reverse\u001b[38;5;241m=\u001b[39m\u001b[38;5;28;01mTrue\u001b[39;00m)\n\u001b[0;32m      2\u001b[0m mylist\n",
      "\u001b[1;31mTypeError\u001b[0m: '<' not supported between instances of 'int' and 'str'"
     ]
    }
   ],
   "source": [
    "mylist.sort(reverse=True)\n",
    "mylist"
   ]
  },
  {
   "cell_type": "code",
   "execution_count": null,
   "id": "91f7d838-e708-4340-8f2b-42911679d460",
   "metadata": {},
   "outputs": [],
   "source": [
    "name = 'ABHINANDAN'\n",
    "na = [i for i in name]\n",
    "na"
   ]
  },
  {
   "cell_type": "code",
   "execution_count": null,
   "id": "a1bb8b01-5f00-4855-a221-fdaa1c3c600e",
   "metadata": {},
   "outputs": [],
   "source": [
    "even = [i for i in range(0,31) if i%2==0]\n",
    "even"
   ]
  },
  {
   "cell_type": "code",
   "execution_count": null,
   "id": "bbedd72c-41d2-416b-977c-b216f87dc877",
   "metadata": {},
   "outputs": [],
   "source": [
    "odd = [i for i in range(30) if i%2==1]\n",
    "odd"
   ]
  },
  {
   "cell_type": "code",
   "execution_count": null,
   "id": "fdfabc06-1e19-4eb0-8c31-2107bba49dd7",
   "metadata": {},
   "outputs": [],
   "source": [
    "square = [i**2 for i in range(10) if i%2 == 0]\n",
    "square"
   ]
  },
  {
   "cell_type": "code",
   "execution_count": null,
   "id": "febef963-2d3f-4032-b673-88a95fb3fcf9",
   "metadata": {},
   "outputs": [],
   "source": [
    "mul_3_5 = [i for i in range(200) if (i%3==0) and (i%5==0)]\n",
    "mul_3_5"
   ]
  },
  {
   "cell_type": "code",
   "execution_count": null,
   "id": "9680f742-ede3-477c-b974-4767097f1d4d",
   "metadata": {},
   "outputs": [],
   "source": [
    "mystr = \"One 1 two 2 three 3 four 4 five 5 six 6789\"\n",
    "num = [i for i in mystr if i.isdigit()]\n",
    "num"
   ]
  },
  {
   "cell_type": "code",
   "execution_count": null,
   "id": "3e11f4dc-f540-41ff-adf8-3ff56953eff8",
   "metadata": {},
   "outputs": [],
   "source": [
    "mystr = \"One 1 two 2 three 3 four 4 five 5 six 6789\"\n",
    "alpha = [i for i in mystr if i.isalpha()]\n",
    "alpha[0:9]"
   ]
  },
  {
   "cell_type": "code",
   "execution_count": null,
   "id": "8508cc63-e7f8-4c7e-8afa-1edb6eb737fc",
   "metadata": {},
   "outputs": [],
   "source": [
    "mystr = \"One 1 two 2 three 3 four 4 five 5 six 6789\"\n",
    "for i in mystr:\n",
    "    if i.isalpha():\n",
    "        print(\"yes\")"
   ]
  },
  {
   "cell_type": "code",
   "execution_count": null,
   "id": "6c94a2b2-a82b-4d66-b5e5-747e5288d6f8",
   "metadata": {},
   "outputs": [],
   "source": [
    "tu = ['Asif', 25 ,[50, 100],[150, 90] , {'John' , 'David'} , [99,22,33]]\n",
    "tu[5][1]\n",
    "tu.index(25)"
   ]
  },
  {
   "cell_type": "code",
   "execution_count": null,
   "id": "fc6fbe8e-e535-42dd-b553-f5d686ca2e3d",
   "metadata": {},
   "outputs": [],
   "source": [
    "tup7 = ('Asif', 25 ,[50, 100],[150, 90] , {'John' , 'David'} , (99,22,33))\n"
   ]
  },
  {
   "cell_type": "code",
   "execution_count": null,
   "id": "93ea508d-15c0-47c0-bded-6d444a0e8321",
   "metadata": {},
   "outputs": [],
   "source": [
    "# princt max no. in the list\n",
    "l1=[4,6,2,8,1]\n",
    "# l1.sort(reverse = True)\n",
    "l1_max = max(l1)\n",
    "print(l1_max)"
   ]
  },
  {
   "cell_type": "code",
   "execution_count": null,
   "id": "a09da466-5e81-4529-bb92-95996fcc5342",
   "metadata": {},
   "outputs": [],
   "source": [
    "#  Find the reverse of a number provided by the user(any number of digit)\n",
    "n = int(input(\"enter the number:\"))\n",
    "dig_list = list(map(int,str(n))) # map function takes a function and applies it to given iterator eg took int function apply to str(n)\n",
    "dig_list = dig_list[::-1]\n",
    "num = int(\"\".join(map(str,dig_list))) # since join works only on string\n",
    "print(num)\n",
    "\n",
    "# n = int(input(\"enter the number:\"))\n",
    "# dig_list = map(int,str(n))\n",
    "# dig_list = dig_list[::-1]\n",
    "# num = int(\"\".join(map(int,dig_list)))\n",
    "# print(num)"
   ]
  },
  {
   "cell_type": "code",
   "execution_count": null,
   "id": "95ec4e44-690a-4cc4-9e6b-d6c5cbb2014c",
   "metadata": {},
   "outputs": [],
   "source": [
    "# find the number of digits in the given number.\n",
    "n = int(input(\"enter the number of digits in number\"))\n",
    "dig = list(map(int,str(n)))\n",
    "print(len(dig)) # len is a list method"
   ]
  },
  {
   "cell_type": "code",
   "execution_count": null,
   "id": "9b44ccdd-d150-4b76-92cb-ec63c3206f2c",
   "metadata": {},
   "outputs": [],
   "source": [
    "l1=[1,2,3,3,3,4,4,5,6,7,8,9,9]\n",
    "l2 = []\n",
    "for i in l1:\n",
    "    if i not in l2:\n",
    "        l2.append(i)\n",
    "print(l2)"
   ]
  },
  {
   "cell_type": "code",
   "execution_count": null,
   "id": "f9ed852f-89e8-4e94-a35a-f5bc5768f101",
   "metadata": {},
   "outputs": [],
   "source": [
    "''''Write a program to add two lists index-wise. Create a new list that contains the 0th index item from both the\n",
    " list, then the 1st index item, and so on till the last element. any leftover items will get added at the end of the\n",
    " new list.\n",
    " list1 = [\"M\", \"na\", \"i\", \"Ke\"]\n",
    " list2 = [\"y\", \"me\", \"s\", \"lly\"]\n",
    " expected result:\n",
    " ['My', 'name', 'is', 'Kelly']'''\n",
    "list1 = [\"M\", \"na\", \"i\", \"Ke\"]\n",
    "list2 = [\"y\", \"me\", \"s\", \"lly\"]\n",
    "list3 = [i+j for i , j in zip(list1,list2)]\n",
    "print(list3)\n"
   ]
  },
  {
   "cell_type": "code",
   "execution_count": null,
   "id": "9db0b607-984f-4caf-900b-e8d4fc0d02bb",
   "metadata": {},
   "outputs": [],
   "source": [
    " #Turn every item of a list into its square Given a list of numbers. write a program to turn every item of a list into its square.\n",
    "numbers = [1, 2, 3, 4, 5, 6, 7]\n",
    "new = []\n",
    "for i in numbers:\n",
    "    n = pow(i,2)\n",
    "    new.append(n)\n",
    "print(new)\n",
    "    "
   ]
  },
  {
   "cell_type": "code",
   "execution_count": null,
   "id": "131fca33-7087-45ff-8d49-4eb54e031b14",
   "metadata": {},
   "outputs": [],
   "source": [
    "n=[pow(i,2) for i in range(1,4)]\n",
    "print(n)"
   ]
  },
  {
   "cell_type": "code",
   "execution_count": null,
   "id": "94e6332f-2a31-4824-af7e-df8e69b9943e",
   "metadata": {},
   "outputs": [],
   "source": [
    "#  Given a two Python list. Write a program to iterate both lists simultaneously and display items from list1 inoriginal order and items from list2 in reverse order.\n",
    "list1 = [10, 20, 30, 40]\n",
    "list2 = [100, 200, 300, 400]\n",
    "for x,y in zip(list1,list2[::-1]):\n",
    "    print(x,y)"
   ]
  },
  {
   "cell_type": "code",
   "execution_count": null,
   "id": "cb3151e6-88b7-452c-b95c-dc4d8575e0be",
   "metadata": {},
   "outputs": [],
   "source": [
    "# Concatenate two lists in the following order\n",
    "list1 = [\"Hello \", \"take \"]\n",
    "list2 = [\"Dear\", \"Sir\"]\n",
    " # Expected result:\n",
    " # ['Hello Dear', 'Hello Sir', 'take Dear', 'take Sir']\n",
    "for i in list1:\n",
    "    for j in list2:\n",
    "        print(i+\"*\"+j)"
   ]
  },
  {
   "cell_type": "code",
   "execution_count": null,
   "id": "1be8e9b0-297e-4f3e-9adc-f7ac2d3a5739",
   "metadata": {},
   "outputs": [],
   "source": [
    "result = [i+j for i in list1 for j in list2]\n",
    "print(result)"
   ]
  },
  {
   "cell_type": "code",
   "execution_count": null,
   "id": "853e36f9-aa25-43bd-a818-059edbedf1ce",
   "metadata": {},
   "outputs": [],
   "source": [
    "#  Remove empty strings from the list of strings\n",
    "list1 = [\"Mike\", \"\", \"Emma\", \"Kelly\", \"\", \"Brad\"]\n",
    "result = list(filter(lambda x : x != \"\",list1))\n",
    "print(result)"
   ]
  },
  {
   "cell_type": "code",
   "execution_count": null,
   "id": "c00984b8-082c-405c-af65-f84ea5330a39",
   "metadata": {},
   "outputs": [],
   "source": [
    "# Write a program to add item 7000 after 6000 in the following Python List\n",
    "list1 = [10, 20, [300, 400, [5000, 6000], 500], 30, 40]\n",
    "\n",
    "list1[2][2].append(7000)\n",
    "print(list1)\n"
   ]
  },
  {
   "cell_type": "code",
   "execution_count": null,
   "id": "6759ffb4-3ca2-4194-ad1c-bf3a538aef84",
   "metadata": {},
   "outputs": [],
   "source": [
    "'''Replace list’s item with new value if found\n",
    " You have given a Python list. Write a program to find value 20 in the list, and if it is present, replace it with\n",
    " 200. Only update the first occurrence of an item.\n",
    " list1 = [5, 10, 15, 20, 25, 50, 20]\n",
    " Expected output: [5, 10, 15, 200, 25, 50, 20'''\n",
    "list1 = [5, 10, 15, 20, 25, 50, 20]\n",
    "list1[2] = 90\n",
    "x = list1.index(20)\n",
    "list1[x] = 2000\n",
    "print(list1)"
   ]
  },
  {
   "cell_type": "code",
   "execution_count": null,
   "id": "12b41620-cabc-4b1c-b1c9-59ad29a25369",
   "metadata": {},
   "outputs": [],
   "source": [
    "# Given a Python list, write a program to remove all occurrences of item 20.\n",
    "list1 = [5, 20, 15, 20, 25, 50, 20]\n",
    "while 20 in list1:\n",
    "    list1.remove(20)\n",
    "print(list1)"
   ]
  },
  {
   "cell_type": "markdown",
   "id": "ff939452-1c85-49f7-8a17-19d224cff76a",
   "metadata": {
    "jp-MarkdownHeadingCollapsed": true
   },
   "source": [
    "## Set"
   ]
  },
  {
   "cell_type": "code",
   "execution_count": null,
   "id": "db39138e-fe26-4f16-9bb7-96c69e5ec5a1",
   "metadata": {},
   "outputs": [],
   "source": [
    "set1 = {2,4,5,5,6,5,7}\n",
    "set1"
   ]
  },
  {
   "cell_type": "code",
   "execution_count": null,
   "id": "8d684a01-cfaf-477b-bc1e-24905cd7de8a",
   "metadata": {},
   "outputs": [],
   "source": [
    "set2 = set((2,4,5,5,6,5,7))\n",
    "set2\n",
    "for i in enumerate(set2):\n",
    " print(i)"
   ]
  },
  {
   "cell_type": "markdown",
   "id": "7fba31d7-0023-42cc-a698-1df8dc7a8de9",
   "metadata": {
    "jp-MarkdownHeadingCollapsed": true
   },
   "source": [
    "## String"
   ]
  },
  {
   "cell_type": "code",
   "execution_count": null,
   "id": "da168425-cf0e-4203-8a83-307d43e0cb50",
   "metadata": {},
   "outputs": [],
   "source": [
    "str1 = 'HELLO PYTHON'\n",
    "print(str1*2)"
   ]
  },
  {
   "cell_type": "code",
   "execution_count": null,
   "id": "3432bee8-7c2b-43e9-9788-fb77a4e5eff6",
   "metadata": {},
   "outputs": [],
   "source": [
    "len(str1) # len is method for string alse"
   ]
  },
  {
   "cell_type": "code",
   "execution_count": null,
   "id": "70ff6d16-16ef-4386-9cd6-70fdc8412412",
   "metadata": {},
   "outputs": [],
   "source": [
    "str1[len(str1)-1]"
   ]
  },
  {
   "cell_type": "code",
   "execution_count": null,
   "id": "1bc08ed5-ff24-46c2-a1e6-7bd10c29c7d9",
   "metadata": {
    "scrolled": true
   },
   "outputs": [],
   "source": [
    "str1[-4:-1]='gee'"
   ]
  },
  {
   "cell_type": "code",
   "execution_count": null,
   "id": "5ab7486b-249d-4164-accd-90696742c6b0",
   "metadata": {},
   "outputs": [],
   "source": [
    "str2 = 'for you'\n",
    "str3 = str1 +\" \"+ str2\n",
    "print(str3)"
   ]
  },
  {
   "cell_type": "code",
   "execution_count": null,
   "id": "af1f3190-e12f-4bcf-b5ca-391fc0265f75",
   "metadata": {
    "scrolled": true
   },
   "outputs": [],
   "source": [
    "for i in enumerate (str3):\n",
    "    print(i)"
   ]
  },
  {
   "cell_type": "markdown",
   "id": "ff8a6b5b-5e4a-4f64-a5fb-7c9fd80d8adc",
   "metadata": {
    "jp-MarkdownHeadingCollapsed": true
   },
   "source": [
    "## String Indexing"
   ]
  },
  {
   "cell_type": "code",
   "execution_count": null,
   "id": "84215f20-f86a-49ec-9519-d16bd1f0c391",
   "metadata": {},
   "outputs": [],
   "source": [
    "str5 = \"Natural language processing with Python and R and Java\"\n",
    "str5[3:8]"
   ]
  },
  {
   "cell_type": "code",
   "execution_count": null,
   "id": "dcde5921-fa8f-4a7e-9ffa-5bde3fc572cd",
   "metadata": {},
   "outputs": [],
   "source": [
    "# Last character in string using len function\n",
    "str5[len(str5)-1]\n",
    "str5[-1]"
   ]
  },
  {
   "cell_type": "code",
   "execution_count": null,
   "id": "29de524d-5de0-4b64-876a-822daeebfcd3",
   "metadata": {},
   "outputs": [],
   "source": [
    "#Fetch 7th element of the string\n",
    "str5[6]"
   ]
  },
  {
   "cell_type": "code",
   "execution_count": null,
   "id": "057b25c6-8f6a-4bbd-91d4-048ab16dc75f",
   "metadata": {},
   "outputs": [],
   "source": [
    "# Retreive last four characters of the string\n",
    "str5[-4:]\n",
    "str5[:-4]"
   ]
  },
  {
   "cell_type": "code",
   "execution_count": null,
   "id": "1601cca4-7559-4faa-ba36-629fdbb07dff",
   "metadata": {},
   "outputs": [],
   "source": [
    "del str1 # Delete a string\n",
    " print(srt1)"
   ]
  },
  {
   "cell_type": "code",
   "execution_count": null,
   "id": "604cf4a2-99f0-4ae9-bade-765130148db0",
   "metadata": {},
   "outputs": [],
   "source": [
    " # String concatenation\n",
    " s1 = \"Hello\"\n",
    " s2 = \"Asif\"\n",
    " s3 = s1 + \" \" + s2\n",
    " print(s3)"
   ]
  },
  {
   "cell_type": "code",
   "execution_count": null,
   "id": "401d1a0c-1182-4683-a0c0-54d5fb55a9a6",
   "metadata": {},
   "outputs": [],
   "source": [
    "mystr1 = \"Hello Everyone\"\n",
    "for i in mystr1:\n",
    "    print(i,end=\" \")"
   ]
  },
  {
   "cell_type": "markdown",
   "id": "32e0c0e0-d2c9-4d94-8dc5-71110719f034",
   "metadata": {
    "jp-MarkdownHeadingCollapsed": true
   },
   "source": [
    "## String Partitioning\n",
    "\"\"\" The partition() method searches for a specified string and splits the string into\n",
    "\n",
    "The first element contains the part before the argument string.\n",
    "The second element contains the argument string.\n",
    "The third element contains the part after the argument st\"\"\"ring."
   ]
  },
  {
   "cell_type": "code",
   "execution_count": null,
   "id": "c10b344f-61e7-4c65-83f0-6604c6742d74",
   "metadata": {},
   "outputs": [],
   "source": [
    " str5 = \"Natural language processing with Python and R and Java\"\n",
    " L = str5.rpartition(\"and\") \n",
    "print(L)"
   ]
  },
  {
   "cell_type": "code",
   "execution_count": null,
   "id": "289ff2e0-77d6-4577-a052-6bbf58b034c9",
   "metadata": {},
   "outputs": [],
   "source": [
    " str5 = \"Natural language processing with Python and R and Java\"\n",
    " L = str5.partition(\"and\") \n",
    "print(L)"
   ]
  },
  {
   "cell_type": "code",
   "execution_count": null,
   "id": "c10ddc10-3684-4f3d-af96-3127cc7f645f",
   "metadata": {},
   "outputs": [],
   "source": [
    "mystr2 = '  Hello Everyone  '\n",
    "mystr2.replace(\"He\",\"HK\")"
   ]
  },
  {
   "cell_type": "code",
   "execution_count": null,
   "id": "11091c13-6088-428a-b943-943652193815",
   "metadata": {},
   "outputs": [],
   "source": [
    "mystr2 = \"*********Hello Everyone***********All the Best**********\"\n",
    " mystr2.strip('*')"
   ]
  },
  {
   "cell_type": "code",
   "execution_count": null,
   "id": "fc20f68b-c61d-49cc-bfcb-45e493f726e8",
   "metadata": {},
   "outputs": [],
   "source": [
    "mystr2 = \"*********Hello Everyone***********All the Best**********\"\n",
    "mystr2.rstrip('*')"
   ]
  },
  {
   "cell_type": "code",
   "execution_count": null,
   "id": "88f36a5b-a942-4851-b6c7-a9e65935710a",
   "metadata": {},
   "outputs": [],
   "source": [
    "mystr5 = \"one two Three one two two three\"\n",
    "mystr5.count('two')\n",
    "mystr5.startswith('one')"
   ]
  },
  {
   "cell_type": "code",
   "execution_count": null,
   "id": "f989babd-fad6-4b55-a2ad-7446202f1165",
   "metadata": {},
   "outputs": [],
   "source": [
    "loc = mystr5.index('Three')\n",
    "print(loc)"
   ]
  },
  {
   "cell_type": "code",
   "execution_count": null,
   "id": "94e5bb97-1f2c-4594-b0cd-b1788dbefbb5",
   "metadata": {},
   "outputs": [],
   "source": [
    " loc = str5.rfind(\"one\") # last occurrence of word 'one' in string \"str6\"\n",
    "# print(loc)\n",
    "loc = str5.rindex(\"one\")\n",
    "print(loc)"
   ]
  },
  {
   "cell_type": "code",
   "execution_count": null,
   "id": "82965256-9c8a-4eef-9f4c-4e824e5b14f3",
   "metadata": {},
   "outputs": [],
   "source": []
  },
  {
   "cell_type": "code",
   "execution_count": null,
   "id": "c65c845d-480f-426e-825a-774bf88c3d83",
   "metadata": {},
   "outputs": [],
   "source": []
  },
  {
   "cell_type": "code",
   "execution_count": null,
   "id": "c19cf69b-73f7-46e8-b2df-29d6759c2650",
   "metadata": {},
   "outputs": [],
   "source": [
    " item1 = 40\n",
    " item2 = 55\n",
    " item3 = 77\n",
    " res = \"Cost of item1 , item2 and item3 are {} , {} and {}\"\n",
    "print(\"Cost of item1 , item2 and item3 are {} , {} and {}\".format(item1,item2,item3))\n",
    "print(f\"Cost of item1 , item2 and item3 are {item1} , {item2} and {item3}\")\n",
    "print(res.format(item1,item2,item3))"
   ]
  },
  {
   "cell_type": "markdown",
   "id": "eed2f8b9-1abf-4816-ad86-d57081ac63ee",
   "metadata": {},
   "source": [
    "## Dictionary\n",
    "\n",
    "my_dict = dict({1:'one' , 2:'two' , 'A':{'Name':'asif' , 'Age' :20}})"
   ]
  },
  {
   "cell_type": "code",
   "execution_count": null,
   "id": "e30c5cb4-7a9e-4f65-86f4-379c50c6f1e6",
   "metadata": {
    "scrolled": true
   },
   "outputs": [],
   "source": [
    "my_dict = dict({1:'one' , 2:'two' , 'A':{'Name':'asif' , 'Age' :20}})\n",
    "my_dict"
   ]
  },
  {
   "cell_type": "code",
   "execution_count": null,
   "id": "ef73f851-3997-4128-adb7-51b3062cdc7b",
   "metadata": {},
   "outputs": [],
   "source": [
    "for i in my_dict:\n",
    "    print(i,':',my_dict[i])\n",
    "    "
   ]
  },
  {
   "cell_type": "code",
   "execution_count": null,
   "id": "93b34228-4ffc-43c7-9733-648dfb58e24c",
   "metadata": {},
   "outputs": [],
   "source": [
    "keys = {1,2,3}\n",
    "values = {'one','two','three'}\n",
    "my_dict = dict.fromkeys(keys,values)\n",
    "ny_dict={}\n",
    "my_dict"
   ]
  },
  {
   "cell_type": "code",
   "execution_count": null,
   "id": "6028205d-008c-41fd-8739-3e342483f056",
   "metadata": {},
   "outputs": [],
   "source": [
    "my_dict.keys()"
   ]
  },
  {
   "cell_type": "code",
   "execution_count": null,
   "id": "d7ceb384-2a15-46dd-acd4-70ccd0862fec",
   "metadata": {},
   "outputs": [],
   "source": [
    "my_dict.values()"
   ]
  },
  {
   "cell_type": "code",
   "execution_count": null,
   "id": "e1b1fe08-de7e-4c1b-9fb8-29208adb45e9",
   "metadata": {
    "scrolled": true
   },
   "outputs": [],
   "source": [
    "my_dict.items()"
   ]
  },
  {
   "cell_type": "code",
   "execution_count": null,
   "id": "79e2a71a-5346-4af6-a266-91014a39e2b5",
   "metadata": {},
   "outputs": [],
   "source": [
    "my_dict[2]"
   ]
  },
  {
   "cell_type": "code",
   "execution_count": null,
   "id": "35e048f4-9850-434b-95d1-6206172c9bd9",
   "metadata": {},
   "outputs": [],
   "source": [
    "my_dict.get(2)"
   ]
  },
  {
   "cell_type": "code",
   "execution_count": null,
   "id": "2d22c8d6-f799-4d6c-be15-30dbf60af350",
   "metadata": {},
   "outputs": [],
   "source": [
    "my_dict[2]='Two'\n",
    "print(my_dict)"
   ]
  },
  {
   "cell_type": "code",
   "execution_count": 142,
   "id": "37e42035-ccf2-483a-80e4-32fe6e2823c2",
   "metadata": {},
   "outputs": [
    {
     "data": {
      "text/plain": [
       "{1: 'on', 2: 'two', 'A': {'Name': 'hirend', 'Age': 20}, 5: 'five'}"
      ]
     },
     "execution_count": 142,
     "metadata": {},
     "output_type": "execute_result"
    }
   ],
   "source": [
    "my_dict['A']['Name']='hirend'\n",
    "my_dict"
   ]
  },
  {
   "cell_type": "code",
   "execution_count": 144,
   "id": "9c1653ce-64f1-4f41-ae75-4d5970891231",
   "metadata": {},
   "outputs": [
    {
     "data": {
      "text/plain": [
       "{1: 'on', 2: 'two', 'A': {'Name': 'ANNI', 'Age': 20}, 5: 'five'}"
      ]
     },
     "execution_count": 144,
     "metadata": {},
     "output_type": "execute_result"
    }
   ],
   "source": [
    "my_dict['A'].update({'Name':'ANNI'})\n",
    "my_dict"
   ]
  },
  {
   "cell_type": "code",
   "execution_count": 124,
   "id": "05bbd108-dd4a-4280-b06d-5942f7c016ff",
   "metadata": {},
   "outputs": [
    {
     "ename": "KeyError",
     "evalue": "1",
     "output_type": "error",
     "traceback": [
      "\u001b[1;31m---------------------------------------------------------------------------\u001b[0m",
      "\u001b[1;31mKeyError\u001b[0m                                  Traceback (most recent call last)",
      "Cell \u001b[1;32mIn[124], line 1\u001b[0m\n\u001b[1;32m----> 1\u001b[0m my_dict\u001b[38;5;241m.\u001b[39mpop(\u001b[38;5;241m1\u001b[39m)\n\u001b[0;32m      2\u001b[0m \u001b[38;5;28mprint\u001b[39m(my_dict)\n",
      "\u001b[1;31mKeyError\u001b[0m: 1"
     ]
    }
   ],
   "source": [
    "my_dict.pop(1)\n",
    "print(my_dict)"
   ]
  },
  {
   "cell_type": "code",
   "execution_count": 325,
   "id": "8b46de64-4522-4085-a736-0758d5bd1e6e",
   "metadata": {
    "scrolled": true
   },
   "outputs": [
    {
     "data": {
      "text/plain": [
       "{'a': {'10', '20', '30'},\n",
       " 'b': {'10', '20', '30'},\n",
       " 'c': {'10', '20', '30'},\n",
       " 'd': {'10', '20', '30'}}"
      ]
     },
     "execution_count": 325,
     "metadata": {},
     "output_type": "execute_result"
    }
   ],
   "source": [
    " keys = {'a' , 'b' , 'c' , 'd'}\n",
    "value = {'10','20','30'}\n",
    "my_dict2 = dict.fromkeys(keys,value)\n",
    "my_dict2"
   ]
  },
  {
   "cell_type": "code",
   "execution_count": 132,
   "id": "3f36d985-8b19-4f58-a903-7910df87bdd2",
   "metadata": {},
   "outputs": [
    {
     "data": {
      "text/plain": [
       "{'DOB': 1991, 'Address': 'Hilsinki'}"
      ]
     },
     "execution_count": 132,
     "metadata": {},
     "output_type": "execute_result"
    }
   ],
   "source": [
    "mydict1 = {'Name':'Asif' , 'ID': 12345 , 'DOB': 1991 , 'Address' : 'Hilsinki'}\n",
    "mydict1.pop('ID')\n",
    "del[mydict1['Name']]\n",
    "mydict1"
   ]
  },
  {
   "cell_type": "code",
   "execution_count": 136,
   "id": "02bc8eff-e2dc-4757-b6b4-b6998f9960e0",
   "metadata": {},
   "outputs": [
    {
     "name": "stdout",
     "output_type": "stream",
     "text": [
      "DOB : 1991\n",
      "Address : Hilsinki\n"
     ]
    }
   ],
   "source": [
    "for i in mydict1:\n",
    "   print(i , ':' , mydict1[i])"
   ]
  },
  {
   "cell_type": "code",
   "execution_count": 150,
   "id": "640c3d04-81a1-4575-9874-40a866370a01",
   "metadata": {},
   "outputs": [
    {
     "data": {
      "text/plain": [
       "{'one': 1, 'two': 2, 'three': 3, 'four': 4, 'five': 5}"
      ]
     },
     "execution_count": 150,
     "metadata": {},
     "output_type": "execute_result"
    }
   ],
   "source": [
    "key = ['one' , 'two' , 'three' , 'four' , 'five']\n",
    "value = [1,2,3,4,5]\n",
    "\n",
    "my_dict = {k:v for (k,v) in zip(key,value)}\n",
    "my_dict"
   ]
  },
  {
   "cell_type": "code",
   "execution_count": 156,
   "id": "5661b3e1-e7c2-40e5-843b-61c4868d7c79",
   "metadata": {},
   "outputs": [
    {
     "data": {
      "text/plain": [
       "{0: 'N',\n",
       " 1: 'a',\n",
       " 2: 't',\n",
       " 3: 'u',\n",
       " 4: 'r',\n",
       " 5: 'a',\n",
       " 6: 'l',\n",
       " 7: ' ',\n",
       " 8: 'L',\n",
       " 9: 'a',\n",
       " 10: 'n',\n",
       " 11: 'g',\n",
       " 12: 'u',\n",
       " 13: 'a',\n",
       " 14: 'g',\n",
       " 15: 'e',\n",
       " 16: ' ',\n",
       " 17: 'P',\n",
       " 18: 'r',\n",
       " 19: 'o',\n",
       " 20: 'c',\n",
       " 21: 'e',\n",
       " 22: 's',\n",
       " 23: 's',\n",
       " 24: 'i',\n",
       " 25: 'n',\n",
       " 26: 'g'}"
      ]
     },
     "execution_count": 156,
     "metadata": {},
     "output_type": "execute_result"
    }
   ],
   "source": [
    "str1 = \"Natural Language Processing\"\n",
    "my = {k:v for (k,v) in enumerate(str1)}\n",
    "my\n"
   ]
  },
  {
   "cell_type": "code",
   "execution_count": 160,
   "id": "738bbc58-15ab-4e6f-b2df-2c7748671c03",
   "metadata": {},
   "outputs": [
    {
     "data": {
      "text/plain": [
       "{1: 1, 2: 4, 3: 9, 4: 16, 5: 25, 6: 36, 7: 49, 8: 64, 9: 81, 10: 100}"
      ]
     },
     "execution_count": 160,
     "metadata": {},
     "output_type": "execute_result"
    }
   ],
   "source": [
    "my2 = {i:i**2 for i in range(1,11)}\n",
    "my2"
   ]
  },
  {
   "cell_type": "markdown",
   "id": "82f10540-0df7-4428-8ba4-e924ee4763b4",
   "metadata": {},
   "source": [
    "# Sets"
   ]
  },
  {
   "cell_type": "code",
   "execution_count": 108,
   "id": "b74f58d5-d027-40d3-9f12-0c2c1f427d93",
   "metadata": {},
   "outputs": [],
   "source": [
    "A = {1,2,3,4,5}\n",
    "B = {4,5,6,7,8}\n",
    "C = {8,9,10}\n"
   ]
  },
  {
   "cell_type": "code",
   "execution_count": 116,
   "id": "bb11e89d-987d-44cf-838b-0ba5efc377ee",
   "metadata": {},
   "outputs": [
    {
     "data": {
      "text/plain": [
       "{1, 2, 3, 4, 5, 6, 7, 8, 9, 10}"
      ]
     },
     "execution_count": 116,
     "metadata": {},
     "output_type": "execute_result"
    }
   ],
   "source": [
    "A.union(B,C)"
   ]
  },
  {
   "cell_type": "code",
   "execution_count": 118,
   "id": "bc479132-66e5-49d0-9181-cd246fdbec80",
   "metadata": {},
   "outputs": [
    {
     "data": {
      "text/plain": [
       "{4, 5}"
      ]
     },
     "execution_count": 118,
     "metadata": {},
     "output_type": "execute_result"
    }
   ],
   "source": [
    " A & B "
   ]
  },
  {
   "cell_type": "code",
   "execution_count": 120,
   "id": "46022119-cb7f-4ebe-b151-9ef80e4d6d96",
   "metadata": {},
   "outputs": [
    {
     "data": {
      "text/plain": [
       "{4, 5}"
      ]
     },
     "execution_count": 120,
     "metadata": {},
     "output_type": "execute_result"
    }
   ],
   "source": [
    " \"\"\"\n",
    " Updates the set calling the intersection_update() method with the intersection of\n",
    " For below example Set A will be updated  with the intersection of A & B.\n",
    " \"\"\"\n",
    " A.intersection_update(B)\n",
    " A"
   ]
  },
  {
   "cell_type": "code",
   "execution_count": 122,
   "id": "86a1a2cf-5891-4076-b6e0-ee8c78e4684f",
   "metadata": {},
   "outputs": [
    {
     "data": {
      "text/plain": [
       "{6, 7, 8}"
      ]
     },
     "execution_count": 122,
     "metadata": {},
     "output_type": "execute_result"
    }
   ],
   "source": [
    "B- A  # set of elements that are only in B but not in A\n",
    "B.difference(A)"
   ]
  },
  {
   "cell_type": "code",
   "execution_count": 124,
   "id": "26f30d10-2b9a-4c91-a282-ba3a2a9d5f9a",
   "metadata": {},
   "outputs": [
    {
     "data": {
      "text/plain": [
       "{6, 7, 8}"
      ]
     },
     "execution_count": 124,
     "metadata": {},
     "output_type": "execute_result"
    }
   ],
   "source": [
    "\"\"\"\n",
    " Updates the set calling the difference_update() method with the difference of set\n",
    " For below example Set B will be updated  with the difference of B & A.\n",
    " \"\"\"\n",
    "B.difference_update(A)\n",
    "B"
   ]
  },
  {
   "cell_type": "code",
   "execution_count": 126,
   "id": "eee581cf-b3d4-41bf-9eb7-8aadba3572b0",
   "metadata": {},
   "outputs": [
    {
     "data": {
      "text/plain": [
       "{4, 5, 6, 7, 8}"
      ]
     },
     "execution_count": 126,
     "metadata": {},
     "output_type": "execute_result"
    }
   ],
   "source": [
    " A ^ B # Symmetric difference (Set of elements in A and B but not in both. "
   ]
  },
  {
   "cell_type": "code",
   "execution_count": 128,
   "id": "b9c4fd1f-a000-49a9-b30c-73f30d57b986",
   "metadata": {},
   "outputs": [
    {
     "data": {
      "text/plain": [
       "{4, 5, 6, 7, 8}"
      ]
     },
     "execution_count": 128,
     "metadata": {},
     "output_type": "execute_result"
    }
   ],
   "source": [
    "A.symmetric_difference(B)"
   ]
  },
  {
   "cell_type": "code",
   "execution_count": 130,
   "id": "5bc9ce6a-2e4a-4a91-ab98-fb9dc62c3cd2",
   "metadata": {},
   "outputs": [],
   "source": [
    "A = {1,2,3,4,5,6,7,8,9}\n",
    "B = {3,4,5,6,7,8}\n",
    "C = {10,20,30,40}"
   ]
  },
  {
   "cell_type": "code",
   "execution_count": 132,
   "id": "93438761-c520-49d9-9660-6a7728a4b2c2",
   "metadata": {},
   "outputs": [
    {
     "data": {
      "text/plain": [
       "True"
      ]
     },
     "execution_count": 132,
     "metadata": {},
     "output_type": "execute_result"
    }
   ],
   "source": [
    "B.issubset(A) # Set B is said to be the subset of set A if all elements of B are "
   ]
  },
  {
   "cell_type": "code",
   "execution_count": 134,
   "id": "41ade6c3-f2fc-41de-952c-d7d86a46fda4",
   "metadata": {},
   "outputs": [
    {
     "data": {
      "text/plain": [
       "True"
      ]
     },
     "execution_count": 134,
     "metadata": {},
     "output_type": "execute_result"
    }
   ],
   "source": [
    "A.issuperset(B) # Set A is said to be the superset of set B if all elements of B "
   ]
  },
  {
   "cell_type": "code",
   "execution_count": 136,
   "id": "84f31836-1cb2-439a-9e3d-e95da180ccc1",
   "metadata": {},
   "outputs": [
    {
     "data": {
      "text/plain": [
       "True"
      ]
     },
     "execution_count": 136,
     "metadata": {},
     "output_type": "execute_result"
    }
   ],
   "source": [
    "C.isdisjoint(A) # Two sets are said to be disjoint sets if they have no common e"
   ]
  },
  {
   "cell_type": "code",
   "execution_count": null,
   "id": "61395fa9-1fb4-49e5-b301-062a9772cefb",
   "metadata": {},
   "outputs": [],
   "source": []
  }
 ],
 "metadata": {
  "kernelspec": {
   "display_name": "base",
   "language": "python",
   "name": "python3"
  },
  "language_info": {
   "codemirror_mode": {
    "name": "ipython",
    "version": 3
   },
   "file_extension": ".py",
   "mimetype": "text/x-python",
   "name": "python",
   "nbconvert_exporter": "python",
   "pygments_lexer": "ipython3",
   "version": "3.11.7"
  }
 },
 "nbformat": 4,
 "nbformat_minor": 5
}
