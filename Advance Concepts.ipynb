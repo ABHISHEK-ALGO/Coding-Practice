{
 "cells": [
  {
   "cell_type": "code",
   "execution_count": 5,
   "id": "0d5b1d31-3997-46f5-9ee6-45088c83338f",
   "metadata": {},
   "outputs": [
    {
     "name": "stdout",
     "output_type": "stream",
     "text": [
      "2\n",
      "4\n"
     ]
    }
   ],
   "source": [
    "# Generators\n",
    "\n",
    "def mygen():\n",
    "    for i in range(1,20):\n",
    "        if i%2==0:\n",
    "            yield i\n",
    "\n",
    "mygen1 = mygen()\n",
    "print(next(mygen1))\n",
    "print(next(mygen1))"
   ]
  },
  {
   "cell_type": "code",
   "execution_count": 17,
   "id": "7f1314d3-87b8-4693-a58b-58abb774daed",
   "metadata": {},
   "outputs": [
    {
     "name": "stdout",
     "output_type": "stream",
     "text": [
      "[3, 5, 7, 9, 11, 13, 15, 17, 19]\n"
     ]
    }
   ],
   "source": [
    "def my():\n",
    "    result = []\n",
    "    for i in range(1,20):\n",
    "        if i%2 == 0:\n",
    "            i += 1\n",
    "            result.append(i)\n",
    "    return result\n",
    "\n",
    "myg = my()\n",
    "print(myg)"
   ]
  },
  {
   "cell_type": "code",
   "execution_count": 23,
   "id": "71c4d244-5974-4bf7-af48-ba1b4f1964a2",
   "metadata": {},
   "outputs": [
    {
     "name": "stdout",
     "output_type": "stream",
     "text": [
      "before the fuction runs\n",
      "Hello\n",
      "after the funtion runs\n"
     ]
    }
   ],
   "source": [
    "# decorator\n",
    "\n",
    "def decorator(say_hello):\n",
    "    def wrapper():\n",
    "        print(\"before the fuction runs\")\n",
    "        say_hello()\n",
    "        print(\"after the funtion runs\")\n",
    "    return wrapper\n",
    "\n",
    "@decorator\n",
    "def say_hello():\n",
    "    print(\"Hello\")\n",
    "a=say_hello()   "
   ]
  },
  {
   "cell_type": "code",
   "execution_count": 31,
   "id": "e126d56d-6b98-469b-8a9f-2f4a212332db",
   "metadata": {},
   "outputs": [
    {
     "name": "stdout",
     "output_type": "stream",
     "text": [
      "hello,Rishen!\n"
     ]
    }
   ],
   "source": [
    "import datetime\n",
    "\n",
    "def log_function_call(func):\n",
    "    def wrapper(*args,**kwargs):\n",
    "        print(f\"[{datetime.datetime.now()}] calling function:{func.__name__}\")\n",
    "        return func(*args,**kwargs)\n",
    "    return wrapper\n",
    "\n",
    "def greet(name):\n",
    "    print(f\"hello,{name}!\")\n",
    "\n",
    "greet(\"Rishen\")\n",
    "\n",
    "greet = log_function_call(greet)"
   ]
  }
 ],
 "metadata": {
  "kernelspec": {
   "display_name": "Python 3 (ipykernel)",
   "language": "python",
   "name": "python3"
  },
  "language_info": {
   "codemirror_mode": {
    "name": "ipython",
    "version": 3
   },
   "file_extension": ".py",
   "mimetype": "text/x-python",
   "name": "python",
   "nbconvert_exporter": "python",
   "pygments_lexer": "ipython3",
   "version": "3.11.7"
  }
 },
 "nbformat": 4,
 "nbformat_minor": 5
}
