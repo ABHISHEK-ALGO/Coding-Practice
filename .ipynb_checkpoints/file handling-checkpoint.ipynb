{
 "cells": [
  {
   "cell_type": "code",
   "execution_count": 29,
   "id": "b95d7550-3bd9-48ab-b9d5-d35ce39d0bb0",
   "metadata": {},
   "outputs": [
    {
     "data": {
      "text/plain": [
       "\"'Python generators are easy way of creating iterators. It generates values one \\nat a time from a given sequence instead of returning the entire sequence at onc\\n e.\\\\nIt is a special type of function which returns an iterator object.\\\\nIn a ge\\n nerator function, a yield statement is used rather than a return statement.\\\\nTh\\n e generator function cannot include the return keyword. If we include it then i\\n t will terminate the execution of the function.\\\\nThe difference between yield a\\n nd return is that once yield returns a value the function is paused and the con\\n trol is transferred to the caller.Local variables and their states are remember\\n ed between successive calls. In case of the return statement value is returned \\nand the execution of the function is terminated.\\\\nMethods like __iter()__ and _\\n _next()__ are implemented automatically in generator function.\\\\nSimple generato\\n rs can be easily created using generator expressions. Generator expressions cre\\n ate anonymous generator functions like lambda.\\\\nThe syntax for generator expres\\n sion is similar to that of a list comprehension but the only difference is squa\\n re brackets are replaced with round parentheses. Also list comprehension produc\\n es the entire list while the generator expression produces one item at a time w\\n hich is more memory efficient than list comprehension.'\""
      ]
     },
     "execution_count": 29,
     "metadata": {},
     "output_type": "execute_result"
    }
   ],
   "source": [
    "fileobj = open('sample.txt')\n",
    "fileobj.read()"
   ]
  },
  {
   "cell_type": "code",
   "execution_count": 39,
   "id": "abcf571a-b826-4f14-8bfd-3bbc7247a15d",
   "metadata": {},
   "outputs": [
    {
     "data": {
      "text/plain": [
       "0"
      ]
     },
     "execution_count": 39,
     "metadata": {},
     "output_type": "execute_result"
    }
   ],
   "source": [
    "fileobj.seek(0) # used for travel of the curser"
   ]
  },
  {
   "cell_type": "code",
   "execution_count": 41,
   "id": "213da751-0bcd-452d-96ed-1b3c68befa06",
   "metadata": {},
   "outputs": [
    {
     "data": {
      "text/plain": [
       "\"'Python generat\""
      ]
     },
     "execution_count": 41,
     "metadata": {},
     "output_type": "execute_result"
    }
   ],
   "source": [
    "fileobj.read(15) # read line upto 16"
   ]
  },
  {
   "cell_type": "code",
   "execution_count": 43,
   "id": "fe0c5f70-db0f-42a8-8411-e45087b0ce15",
   "metadata": {},
   "outputs": [
    {
     "data": {
      "text/plain": [
       "15"
      ]
     },
     "execution_count": 43,
     "metadata": {},
     "output_type": "execute_result"
    }
   ],
   "source": [
    "fileobj.tell() # TELL THE CURSORR POSITION"
   ]
  },
  {
   "cell_type": "code",
   "execution_count": 51,
   "id": "facd17db-6d83-4d6a-b905-0f713ce6dfb8",
   "metadata": {
    "scrolled": true
   },
   "outputs": [
    {
     "data": {
      "text/plain": [
       "['of creating iterators. It generates values one \\n',\n",
       " 'at a time from a given sequence instead of returning the entire sequence at onc\\n',\n",
       " ' e.\\\\nIt is a special type of function which returns an iterator object.\\\\nIn a ge\\n',\n",
       " ' nerator function, a yield statement is used rather than a return statement.\\\\nTh\\n',\n",
       " ' e generator function cannot include the return keyword. If we include it then i\\n',\n",
       " ' t will terminate the execution of the function.\\\\nThe difference between yield a\\n',\n",
       " ' nd return is that once yield returns a value the function is paused and the con\\n',\n",
       " ' trol is transferred to the caller.Local variables and their states are remember\\n',\n",
       " ' ed between successive calls. In case of the return statement value is returned \\n',\n",
       " 'and the execution of the function is terminated.\\\\nMethods like __iter()__ and _\\n',\n",
       " ' _next()__ are implemented automatically in generator function.\\\\nSimple generato\\n',\n",
       " ' rs can be easily created using generator expressions. Generator expressions cre\\n',\n",
       " ' ate anonymous generator functions like lambda.\\\\nThe syntax for generator expres\\n',\n",
       " ' sion is similar to that of a list comprehension but the only difference is squa\\n',\n",
       " ' re brackets are replaced with round parentheses. Also list comprehension produc\\n',\n",
       " ' es the entire list while the generator expression produces one item at a time w\\n',\n",
       " \" hich is more memory efficient than list comprehension.'\"]"
      ]
     },
     "execution_count": 51,
     "metadata": {},
     "output_type": "execute_result"
    }
   ],
   "source": [
    "fileobj.tell()\n",
    "fileobj.readlines() "
   ]
  },
  {
   "cell_type": "code",
   "execution_count": 57,
   "id": "f4f7cbbd-15fc-49fb-8d63-9a3147c55268",
   "metadata": {
    "scrolled": true
   },
   "outputs": [
    {
     "name": "stdout",
     "output_type": "stream",
     "text": [
      "[\"'Python generators are easy way of creating iterators. It generates values one \\n\", 'at a time from a given sequence instead of returning the entire sequence at onc\\n', ' e.\\\\nIt is a special type of function which returns an iterator object.\\\\nIn a ge\\n', ' nerator function, a yield statement is used rather than a return statement.\\\\nTh\\n', ' e generator function cannot include the return keyword. If we include it then i\\n', ' t will terminate the execution of the function.\\\\nThe difference between yield a\\n', ' nd return is that once yield returns a value the function is paused and the con\\n', ' trol is transferred to the caller.Local variables and their states are remember\\n', ' ed between successive calls. In case of the return statement value is returned \\n', 'and the execution of the function is terminated.\\\\nMethods like __iter()__ and _\\n', ' _next()__ are implemented automatically in generator function.\\\\nSimple generato\\n', ' rs can be easily created using generator expressions. Generator expressions cre\\n', ' ate anonymous generator functions like lambda.\\\\nThe syntax for generator expres\\n', ' sion is similar to that of a list comprehension but the only difference is squa\\n', ' re brackets are replaced with round parentheses. Also list comprehension produc\\n', ' es the entire list while the generator expression produces one item at a time w\\n', \" hich is more memory efficient than list comprehension.'\"]\n",
      "[]\n",
      "[]\n",
      "[]\n",
      "[]\n"
     ]
    }
   ],
   "source": [
    " # Read first 5 lines of a file using readline()\n",
    "fileobj.seek(0)\n",
    "count = 0\n",
    "for i in range(5):\n",
    "    if (count<5):\n",
    "        print(fileobj.readlines())\n",
    "    else:\n",
    "        break\n",
    "    count+= 1\n",
    "        "
   ]
  },
  {
   "cell_type": "code",
   "execution_count": 55,
   "id": "83c41fd7-8d17-46db-8c68-19339087edf3",
   "metadata": {},
   "outputs": [
    {
     "name": "stdout",
     "output_type": "stream",
     "text": [
      "'Python generators are easy way of creating iterators. It generates values one \n",
      "\n",
      "at a time from a given sequence instead of returning the entire sequence at onc\n",
      "\n",
      " e.\\nIt is a special type of function which returns an iterator object.\\nIn a ge\n",
      "\n",
      " nerator function, a yield statement is used rather than a return statement.\\nTh\n",
      "\n",
      " e generator function cannot include the return keyword. If we include it then i\n",
      "\n"
     ]
    }
   ],
   "source": [
    " # Read first 5 lines of a file using readline()\n",
    "fileobj.seek(0)\n",
    "count = 0\n",
    "for i in range(5):\n",
    "    if count < 5:\n",
    "        print(fileobj.readline())\n",
    "    else:\n",
    "        break\n",
    "    count+= 1"
   ]
  },
  {
   "cell_type": "code",
   "execution_count": 61,
   "id": "835541ef-b2ac-4f02-96bd-3eb4596f6f1b",
   "metadata": {},
   "outputs": [
    {
     "name": "stdout",
     "output_type": "stream",
     "text": [
      "at a time from a given sequence instead of returning the entire sequence at onc\n",
      "\n",
      " e generator function cannot include the return keyword. If we include it then i\n",
      "\n"
     ]
    }
   ],
   "source": [
    "# Read the 4 line from the following file\n",
    "with open(\"sample.txt\") as fp:\n",
    "    lines = fp.readlines()\n",
    "print(lines[1])\n",
    "\n",
    "with open('sample.txt') as fp:\n",
    "    lines = fp.readlines()\n",
    "print(lines[4])"
   ]
  },
  {
   "cell_type": "code",
   "execution_count": null,
   "id": "1aaa1613-c1af-419e-acb2-4cbdd0c07228",
   "metadata": {},
   "outputs": [],
   "source": [
    "import os\n",
    "size=os.stat(\"sample.txt\").st_size\n",
    "if size==0:\n",
    " print(\"file is empty\")\n",
    "else:\n",
    " print(\"file is not empty\")"
   ]
  },
  {
   "cell_type": "code",
   "execution_count": null,
   "id": "c61d133f-96cf-4979-ab9c-7012b3421930",
   "metadata": {},
   "outputs": [],
   "source": [
    "# Read the 4 line from the following file\n",
    "with open(\"sample.txt\") as fp:\n",
    "    lines = fp.readlines()\n",
    "print(lines[1])\n",
    "\n",
    "with open(\"sample.txt\") as fp:\n",
    "    lines = fp.readlines()\n",
    "print(lines[4])"
   ]
  },
  {
   "cell_type": "code",
   "execution_count": 75,
   "id": "72bc2f68-df26-44f5-868b-4183a7e787ec",
   "metadata": {},
   "outputs": [],
   "source": [
    "with open(\"sample_new.txt\",'w') as fp:\n",
    "    count = 0\n",
    "    for line in lines:\n",
    "        if count == 4:\n",
    "            count+=1\n",
    "            continue\n",
    "        \n",
    "        fp.write(line)\n",
    "        count +=1"
   ]
  }
 ],
 "metadata": {
  "kernelspec": {
   "display_name": "Python 3 (ipykernel)",
   "language": "python",
   "name": "python3"
  },
  "language_info": {
   "codemirror_mode": {
    "name": "ipython",
    "version": 3
   },
   "file_extension": ".py",
   "mimetype": "text/x-python",
   "name": "python",
   "nbconvert_exporter": "python",
   "pygments_lexer": "ipython3",
   "version": "3.11.7"
  }
 },
 "nbformat": 4,
 "nbformat_minor": 5
}
