{
 "cells": [
  {
   "cell_type": "code",
   "execution_count": 3,
   "id": "5a862d95-cfc2-4f9e-973c-7d0bbb5a50f0",
   "metadata": {},
   "outputs": [],
   "source": [
    "import datetime\n",
    "import pandas as pd"
   ]
  },
  {
   "cell_type": "code",
   "execution_count": 5,
   "id": "62394f5f-3fe9-4c95-b687-793f348a7db3",
   "metadata": {},
   "outputs": [
    {
     "name": "stdout",
     "output_type": "stream",
     "text": [
      "2025-03-05 18:00:41.161854\n"
     ]
    }
   ],
   "source": [
    "print(datetime.datetime.now())"
   ]
  },
  {
   "cell_type": "code",
   "execution_count": 7,
   "id": "0b22b30d-bcd1-4984-98c3-e5cf4395b07e",
   "metadata": {},
   "outputs": [
    {
     "name": "stdout",
     "output_type": "stream",
     "text": [
      "2025-03-05\n"
     ]
    }
   ],
   "source": [
    "print(datetime.datetime.now().date())"
   ]
  },
  {
   "cell_type": "code",
   "execution_count": 7,
   "id": "dca88ac9-fb08-4f1c-881f-ff061396ff26",
   "metadata": {},
   "outputs": [
    {
     "name": "stdout",
     "output_type": "stream",
     "text": [
      "2020-02-25 04:20:00\n"
     ]
    }
   ],
   "source": [
    "#Convert string into a datetime object\n",
    "from datetime import datetime\n",
    "date_string=\"Feb 25 2020 4:20PM\"\n",
    "datetime_object = datetime.strptime(date_string,\"%b %d %Y %H:%M%p\")\n",
    "type(datetime_object)\n",
    "print(datetime_object)"
   ]
  },
  {
   "cell_type": "code",
   "execution_count": 27,
   "id": "96163c53-84dd-40ee-be75-95b2ae9f9420",
   "metadata": {},
   "outputs": [
    {
     "name": "stdout",
     "output_type": "stream",
     "text": [
      "<class 'datetime.datetime'>\n"
     ]
    },
    {
     "data": {
      "text/plain": [
       "datetime.datetime(2020, 2, 25, 0, 0)"
      ]
     },
     "execution_count": 27,
     "metadata": {},
     "output_type": "execute_result"
    }
   ],
   "source": [
    "from datetime import datetime \n",
    "date_string = \"Feb 25 2020\"\n",
    "dt = datetime.strptime(date_string,\"%b %d %Y\")\n",
    "print(type(dt))\n",
    "dt"
   ]
  },
  {
   "cell_type": "code",
   "execution_count": null,
   "id": "41bcbe0c-64b7-42b2-8d10-92b5a44b5aff",
   "metadata": {},
   "outputs": [],
   "source": [
    "# Subtract a week (7 days) from a given date in Python\n",
    "given_date =  datetime(2020, 2, 25)\n",
    "from datetime import timedelta\n",
    "print(given_date)\n",
    "date_to_sub = 7\n",
    "res_date = given_date - timedelta(date_to_sub)\n",
    "print(res_date)"
   ]
  },
  {
   "cell_type": "code",
   "execution_count": null,
   "id": "1273587f-6be2-4626-8998-ec95da4c955f",
   "metadata": {},
   "outputs": [],
   "source": [
    "def add_days_to_date(date_string: str, days: int) -> str:\n",
    "    date_obj = datetime.strptime(date_string, \"%Y-%m-%d\")\n",
    "    new_date = date_obj + timedelta(days)\n",
    "    return new_date.strftime(\"%Y-%m-%d\")\n",
    "print(add_days_to_date(\"2025-02-27\", 5))"
   ]
  },
  {
   "cell_type": "code",
   "execution_count": 45,
   "id": "e3660e7f-1d90-4e49-85f9-e91eb8580d2f",
   "metadata": {},
   "outputs": [
    {
     "name": "stdout",
     "output_type": "stream",
     "text": [
      "<class 'str'>\n"
     ]
    },
    {
     "data": {
      "text/plain": [
       "'2025-02-01'"
      ]
     },
     "execution_count": 45,
     "metadata": {},
     "output_type": "execute_result"
    }
   ],
   "source": [
    "def add_days_to_date(date_string:str,days:int):\n",
    "    date_obj = datetime.strptime(date_string,\"%Y-%M-%d\")\n",
    "    new_date = date_obj + timedelta(days)\n",
    "    return new_date.strftime(\"%Y-%m-%d\")\n",
    "print(type(add_days_to_date(\"2025-02-27\", 5)))\n",
    "add_days_to_date(\"2025-02-27\", 5)"
   ]
  },
  {
   "cell_type": "code",
   "execution_count": 31,
   "id": "9d27ed75-f6b1-4450-b5d4-b5b7551c140e",
   "metadata": {},
   "outputs": [
    {
     "name": "stdout",
     "output_type": "stream",
     "text": [
      "2020-02-25 00:00:00\n",
      "2020-02-18 00:00:00\n"
     ]
    }
   ],
   "source": [
    "from datetime import timedelta\n",
    "given_date =  datetime(2020, 2, 25)\n",
    "print(given_date)\n",
    "date_to_sub = 7\n",
    "res_date = given_date - timedelta(7)\n",
    "print(res_date)"
   ]
  },
  {
   "cell_type": "code",
   "execution_count": 11,
   "id": "6ebe7a79-c0f3-41d2-b227-7f0c286b1b58",
   "metadata": {},
   "outputs": [
    {
     "data": {
      "text/plain": [
       "'25-February-2020 Tuesday 2'"
      ]
     },
     "execution_count": 11,
     "metadata": {},
     "output_type": "execute_result"
    }
   ],
   "source": [
    "given_date = datetime(2020, 2, 25)\n",
    "given_date.strftime(\"%d-%B-%Y %A %w\")"
   ]
  },
  {
   "cell_type": "code",
   "execution_count": 88,
   "id": "d86eaa62-5bc8-4c7b-9b04-87178e48adfb",
   "metadata": {},
   "outputs": [
    {
     "name": "stdout",
     "output_type": "stream",
     "text": [
      "the new date will be 2020-03-03 22:05:00\n"
     ]
    }
   ],
   "source": [
    "#  Add a week (7 days) and 12 hours 5 min to a given date\n",
    "given_date =  datetime(2020, 2, 25,10,0,0)\n",
    "res_date = given_date + timedelta(days=7,hours = 12,minutes = 5)\n",
    "print(f\"the new date will be {res_date}\")"
   ]
  },
  {
   "cell_type": "code",
   "execution_count": 100,
   "id": "424fde67-21e2-4d6b-b415-062d7a524a0d",
   "metadata": {},
   "outputs": [
    {
     "name": "stdout",
     "output_type": "stream",
     "text": [
      "Days Difference: 31\n"
     ]
    }
   ],
   "source": [
    "# diff between days\n",
    "start_date = datetime(2024, 1, 1)\n",
    "end_date = datetime(2024, 2, 1)\n",
    "days_difference = (end_date - start_date).days\n",
    "print(\"Days Difference:\", days_difference)\n"
   ]
  },
  {
   "cell_type": "code",
   "execution_count": 110,
   "id": "760001ab-d54d-436e-9dc5-fa36b1d2e56b",
   "metadata": {},
   "outputs": [
    {
     "name": "stdout",
     "output_type": "stream",
     "text": [
      "Months Difference: 3\n",
      "monthes Difference: 3\n"
     ]
    }
   ],
   "source": [
    "def months_difference(start_date, end_date):\n",
    "    \"\"\"\n",
    "    Calculate the number of full months between two dates.\n",
    "    \"\"\"\n",
    "    return (end_date.year - start_date.year) * 12 + (end_date.month - start_date.month)\n",
    "\n",
    "start_date = datetime(2024, 4, 3)\n",
    "end_date = datetime(2024, 7, 5)\n",
    "\n",
    "months_diff = months_difference(start_date, end_date)\n",
    "print(\"Months Difference:\", months_diff)\n",
    "\n",
    "mon_difference = (end_date.month - start_date.month)\n",
    "print(\"monthes Difference:\", mon_difference)\n"
   ]
  },
  {
   "cell_type": "code",
   "execution_count": 126,
   "id": "046a2c8a-8303-457f-b979-d8e3309e3def",
   "metadata": {},
   "outputs": [
    {
     "name": "stdout",
     "output_type": "stream",
     "text": [
      "16:33:21.632046\n"
     ]
    }
   ],
   "source": [
    "#Extract totnly the date\n",
    "import pandas  as pd\n",
    "# current_timestamp = pd.Timestamp.now()\n",
    "# current_date = current_timestamp.date()\n",
    "# print(\"Current Date:\", current_date)\n",
    "\n",
    "curr_time = pd.Timestamp.now().time()\n",
    "print(curr_time)"
   ]
  },
  {
   "cell_type": "code",
   "execution_count": 148,
   "id": "991c3576-125a-4d69-94d2-2ec475771909",
   "metadata": {},
   "outputs": [
    {
     "name": "stdout",
     "output_type": "stream",
     "text": [
      "Extracted Date: 2020-03-03\n"
     ]
    }
   ],
   "source": [
    "# Given date string\n",
    "# Given date string\n",
    "date_str = \"03-03-2020\"\n",
    "\n",
    "# Convert to datetime format (assuming the format is DD-MM-YYYY)\n",
    "#date_obj = pd.to_datetime(date_str, format=\"%d-%m-%Y\")\n",
    "date_obj = datetime.strptime(date_str, \"%d-%m-%Y\")\n",
    "# Extract only the date\n",
    "extracted_date = date_obj.date()\n",
    "print(\"Extracted Date:\", extracted_date)"
   ]
  }
 ],
 "metadata": {
  "kernelspec": {
   "display_name": "Python 3 (ipykernel)",
   "language": "python",
   "name": "python3"
  },
  "language_info": {
   "codemirror_mode": {
    "name": "ipython",
    "version": 3
   },
   "file_extension": ".py",
   "mimetype": "text/x-python",
   "name": "python",
   "nbconvert_exporter": "python",
   "pygments_lexer": "ipython3",
   "version": "3.11.7"
  }
 },
 "nbformat": 4,
 "nbformat_minor": 5
}
